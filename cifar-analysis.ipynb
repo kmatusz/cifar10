{
 "cells": [
  {
   "cell_type": "markdown",
   "metadata": {},
   "source": [
    "# CIFAR-10 images classification challenge"
   ]
  },
  {
   "cell_type": "markdown",
   "metadata": {},
   "source": [
    "## Loading data and checking structure"
   ]
  },
  {
   "cell_type": "markdown",
   "metadata": {},
   "source": [
    "Let's do some exploratory data analysis. First we'll load the data from the files downloaded from CIFAR website."
   ]
  },
  {
   "cell_type": "code",
   "execution_count": 1,
   "metadata": {},
   "outputs": [
    {
     "name": "stderr",
     "output_type": "stream",
     "text": [
      "C:\\ProgramData\\Anaconda3\\lib\\site-packages\\h5py\\__init__.py:36: FutureWarning: Conversion of the second argument of issubdtype from `float` to `np.floating` is deprecated. In future, it will be treated as `np.float64 == np.dtype(float).type`.\n",
      "  from ._conv import register_converters as _register_converters\n",
      "Using TensorFlow backend.\n"
     ]
    }
   ],
   "source": [
    "#importing libraries\n",
    "\n",
    "#general libraries\n",
    "import pickle\n",
    "import collections\n",
    "import time\n",
    "from PIL import Image\n",
    "from mpl_toolkits.axes_grid1 import ImageGrid\n",
    "import matplotlib.pyplot as plt\n",
    "import numpy as np\n",
    "import pandas as pd\n",
    "\n",
    "#keras library\n",
    "from keras.preprocessing import image\n",
    "from keras.models import Sequential\n",
    "from keras.layers import Dense, Dropout\n",
    "from keras.applications.inception_v3 import InceptionV3\n",
    "from keras.utils import np_utils\n",
    "\n",
    "#skimage library\n",
    "from skimage.transform import resize\n",
    "from skimage.feature import hog\n",
    "\n",
    "#sklearn library\n",
    "from sklearn.manifold import TSNE\n",
    "from sklearn.decomposition import PCA\n",
    "from sklearn.svm import LinearSVC\n",
    "from sklearn.metrics import accuracy_score, confusion_matrix\n",
    "from sklearn.model_selection import GridSearchCV, RandomizedSearchCV, train_test_split\n",
    "from sklearn.ensemble import RandomForestClassifier\n",
    "\n",
    "#ipython magics\n",
    "%config IPCompleter.greedy=True"
   ]
  },
  {
   "cell_type": "code",
   "execution_count": 2,
   "metadata": {},
   "outputs": [],
   "source": [
    "\n",
    "def preprocess_inception (df, only_reshape=False): \n",
    "    #the function first reshapes the input data to proper image format. Later it resizes the imagest to fit InceptionV3 net.\n",
    "    #The last layer is removed from the net and features are extracted.\n",
    "    \n",
    "    df_small_reshaped=[]\n",
    "    time_start=time.time() #timer\n",
    "    for i in range(len(df)): \n",
    "        df_small_reshaped.append(df[i].reshape(3,1024).T.reshape(32,32,3))\n",
    "    df= np.asarray(df_small_reshaped)\n",
    "    print(\"Image data reshaped\")\n",
    "    if only_reshape:\n",
    "        print(\"selected only reshaping mode\")\n",
    "        return df\n",
    "    \n",
    "    #removing top layer, input shape set to default for inception model\n",
    "    model = InceptionV3(weights='imagenet', include_top=False, input_shape=(139, 139, 3)) \n",
    "    print(\"Model created\")\n",
    "    \n",
    "    df_train_resized = np.array([resize(df[i], (139, 139, 3)) \n",
    "                        for i in range(0, len(df))]).astype('float32')\n",
    "    print(\"image resized to suit inception model\")\n",
    "    features_inception = model.predict(df_train_resized, verbose=1)\n",
    "    print(\"features predicted\")\n",
    "    features_inception = np.squeeze(features_inception)\n",
    "    features_inception = features_inception.reshape((len(df), 3*3*2048))\n",
    "    print(\"features reshaped to suit sklearn models\")\n",
    "    print(\"total time:  \", time.time()-time_start, \" s\")\n",
    "    return features_inception\n",
    "    "
   ]
  },
  {
   "cell_type": "code",
   "execution_count": 3,
   "metadata": {},
   "outputs": [],
   "source": [
    "#Snippet taken from cifar-10 website unpacking the data\n",
    "def unpickle(file):\n",
    "    import pickle\n",
    "    with open(file, 'rb') as fo:\n",
    "        dict = pickle.load(fo, encoding='bytes')\n",
    "    return dict"
   ]
  },
  {
   "cell_type": "markdown",
   "metadata": {},
   "source": [
    "Checking labels of the images:"
   ]
  },
  {
   "cell_type": "code",
   "execution_count": 4,
   "metadata": {
    "scrolled": false
   },
   "outputs": [
    {
     "data": {
      "text/plain": [
       "{b'num_cases_per_batch': 10000,\n",
       " b'label_names': [b'airplane',\n",
       "  b'automobile',\n",
       "  b'bird',\n",
       "  b'cat',\n",
       "  b'deer',\n",
       "  b'dog',\n",
       "  b'frog',\n",
       "  b'horse',\n",
       "  b'ship',\n",
       "  b'truck'],\n",
       " b'num_vis': 3072}"
      ]
     },
     "execution_count": 4,
     "metadata": {},
     "output_type": "execute_result"
    }
   ],
   "source": [
    "unpickle('data\\\\batches.meta')"
   ]
  },
  {
   "cell_type": "markdown",
   "metadata": {},
   "source": [
    "Checking structure of one training batch:"
   ]
  },
  {
   "cell_type": "code",
   "execution_count": 5,
   "metadata": {},
   "outputs": [
    {
     "name": "stdout",
     "output_type": "stream",
     "text": [
      "Keys of one batch dictionary are:  [b'batch_label', b'labels', b'data', b'filenames']\n",
      "Shape of dataset is  (10000, 3072)\n",
      "Checking the distribution of labels:  {6: 1030, 9: 981, 4: 999, 1: 974, 2: 1032, 7: 1001, 8: 1025, 3: 1016, 5: 937, 0: 1005}\n"
     ]
    }
   ],
   "source": [
    "batch1 = unpickle('data\\data_batch_1')\n",
    "print(\"Keys of one batch dictionary are: \", list(batch1.keys()))\n",
    "print(\"Shape of dataset is \", batch1[b'data'].shape)\n",
    "\n",
    "print(\"Checking the distribution of labels: \", dict(collections.Counter(batch1[b'labels'])))"
   ]
  },
  {
   "cell_type": "markdown",
   "metadata": {},
   "source": [
    "Everything is loaded properly. Let's now load the full training dataset:"
   ]
  },
  {
   "cell_type": "code",
   "execution_count": 6,
   "metadata": {},
   "outputs": [],
   "source": [
    "x=batch1[b'data']\n",
    "y=batch1[b'labels']\n",
    "\n",
    "for i in range(2,6):\n",
    "    temp_dict= unpickle('data\\data_batch_'+str(i) )\n",
    "    x=np.append(x, temp_dict[b'data'], axis=0)\n",
    "    y=y+temp_dict[b'labels']"
   ]
  },
  {
   "cell_type": "markdown",
   "metadata": {},
   "source": [
    "#### Randomly selecting images to modelling"
   ]
  },
  {
   "cell_type": "markdown",
   "metadata": {},
   "source": [
    "Because I didn't have access to proper GPU, I used 1/10 of the dataset for training and 1/20 for validation."
   ]
  },
  {
   "cell_type": "code",
   "execution_count": 7,
   "metadata": {
    "scrolled": true
   },
   "outputs": [
    {
     "data": {
      "text/plain": [
       "(5000, 3072)"
      ]
     },
     "execution_count": 7,
     "metadata": {},
     "output_type": "execute_result"
    }
   ],
   "source": [
    "#train and test sets\n",
    "x_left, x_train, y_left, y_train = train_test_split(\n",
    "    x, y, test_size=0.1, random_state=42)\n",
    "x_left, x_test, y_left, y_test = train_test_split(\n",
    "    x_left, y_left, test_size=0.05, random_state=42)\n",
    "\n",
    "#remove auxiliary data\n",
    "del x_left\n",
    "del y_left\n",
    "del x\n",
    "del y\n",
    "x_train.shape"
   ]
  },
  {
   "cell_type": "markdown",
   "metadata": {},
   "source": [
    "#### Wisualising the images"
   ]
  },
  {
   "cell_type": "code",
   "execution_count": 8,
   "metadata": {},
   "outputs": [
    {
     "data": {
      "image/png": "[encoded data removed]",
      "text/plain": [
       "<Figure size 432x288 with 100 Axes>"
      ]
     },
     "metadata": {},
     "output_type": "display_data"
    }
   ],
   "source": [
    "%matplotlib inline\n",
    "examples_indexes=[]\n",
    "for number in range(0,11):\n",
    "    examples_indexes.append( [i for i, n in enumerate(y_train) if n==number][0:10])\n",
    "\n",
    "examples_images=[]\n",
    "for i in examples_indexes:\n",
    "    examples_images=examples_images+i\n",
    "    \n",
    "    \n",
    "for i in range(len(examples_images)):\n",
    "    \n",
    "    examples_images[i]= Image.fromarray((x_train[examples_images[i]].reshape(3,1024).T.reshape(32,32,3)*255).astype('uint8'), 'RGB')\n",
    "    \n",
    "\n",
    "\n",
    "for i in range(1,101):\n",
    "    plt.subplot(10,10,i)\n",
    "    plt.imshow(examples_images[i-1])\n",
    "    plt.axis(\"off\")"
   ]
  },
  {
   "cell_type": "markdown",
   "metadata": {},
   "source": [
    "## Training a shallow classifier"
   ]
  },
  {
   "cell_type": "markdown",
   "metadata": {},
   "source": [
    "To serve as a benchmark for next tests, I'm using HOG technique to extract features from the images and then I'm training SVM classifier on top of it."
   ]
  },
  {
   "cell_type": "code",
   "execution_count": 9,
   "metadata": {},
   "outputs": [
    {
     "name": "stdout",
     "output_type": "stream",
     "text": [
      "Image data reshaped\n",
      "selected only reshaping mode\n",
      "Image data reshaped\n",
      "selected only reshaping mode\n"
     ]
    }
   ],
   "source": [
    "#preprocessing image dataset to greyscale\n",
    "features_hog_train= preprocess_inception(x_train, only_reshape=True)\n",
    "features_hog_test= preprocess_inception(x_test, only_reshape=True)\n",
    "features_hog_train=np.squeeze((0.21 * features_hog_train[:,:,:,:1]) + (0.72 * features_hog_train[:,:,:,1:2]) + (0.07 * features_hog_train[:,:,:,-1:]))\n",
    "features_hog_test=np.squeeze((0.21 * features_hog_test[:,:,:,:1]) + (0.72 * features_hog_test[:,:,:,1:2]) + (0.07 * features_hog_test[:,:,:,-1:]))"
   ]
  },
  {
   "cell_type": "code",
   "execution_count": 10,
   "metadata": {},
   "outputs": [],
   "source": [
    "def compute_hog(data):\n",
    "    hog_features=[]\n",
    "    for image in data:\n",
    "        hog_features.append( hog(image, orientations=8))\n",
    "\n",
    "    hog_features=np.asarray(hog_features)\n",
    "    return hog_features"
   ]
  },
  {
   "cell_type": "code",
   "execution_count": 11,
   "metadata": {},
   "outputs": [
    {
     "name": "stderr",
     "output_type": "stream",
     "text": [
      "C:\\ProgramData\\Anaconda3\\lib\\site-packages\\skimage\\feature\\_hog.py:119: skimage_deprecation: Default value of `block_norm`==`L1` is deprecated and will be changed to `L2-Hys` in v0.15\n",
      "  'be changed to `L2-Hys` in v0.15', skimage_deprecation)\n"
     ]
    }
   ],
   "source": [
    "features_hog_train=compute_hog(features_hog_train)\n",
    "features_hog_test=compute_hog(features_hog_test)"
   ]
  },
  {
   "cell_type": "code",
   "execution_count": 12,
   "metadata": {},
   "outputs": [],
   "source": [
    "#creating shallow classifier using hog features\n",
    "hog_clf = LinearSVC(C=2)\n",
    "hog_fitted = hog_clf.fit(features_hog_train, np.asarray(y_train))  \n"
   ]
  },
  {
   "cell_type": "code",
   "execution_count": 13,
   "metadata": {},
   "outputs": [],
   "source": [
    "hog_predicted = hog_fitted.predict(features_hog_test)"
   ]
  },
  {
   "cell_type": "code",
   "execution_count": 14,
   "metadata": {
    "scrolled": true
   },
   "outputs": [
    {
     "name": "stdout",
     "output_type": "stream",
     "text": [
      "Accuracy using this technique is  0.4382\n"
     ]
    }
   ],
   "source": [
    "print(\"Accuracy using this technique is \", round(accuracy_score(hog_predicted, y_test),4))"
   ]
  },
  {
   "cell_type": "markdown",
   "metadata": {},
   "source": [
    "As we can see, accuracy using shallow classifier isn't very promising. Next step is to use state-of-the-art InceptionV3 model to obtain features."
   ]
  },
  {
   "cell_type": "markdown",
   "metadata": {},
   "source": [
    "## Classification task using transfer learning"
   ]
  },
  {
   "cell_type": "markdown",
   "metadata": {},
   "source": [
    "As the shallow classifier didn't perform well, I'm going to try transfer learning approach. First step is to extract features using InceptionV3 model, but with removed last layer. Next I visualize obtained features. Then I check some out-of-the box SVM classifier and see how it performs. Lastly I use GridSeach cross validation to select best penalty for the model (C parameter)."
   ]
  },
  {
   "cell_type": "markdown",
   "metadata": {},
   "source": [
    "#### Preprocessing dataset and extracting features"
   ]
  },
  {
   "cell_type": "code",
   "execution_count": 15,
   "metadata": {},
   "outputs": [],
   "source": [
    "#creating training and test sets using features extraction\n",
    "features_inception_train = np.load(\"backups/features_inception_train.npy\")\n",
    "features_inception_test = np.load(\"backups/features_inception_test.npy\")\n",
    "#features_inception_test = preprocess_inception(x_test)\n",
    "#features_inception_train = preprocess_inception(x_train)\n",
    "#np.save(\"backups/features_inception_train.npy\", features_inception_train)\n",
    "#np.save(\"backups/features_inception_test.npy\", features_inception_test)"
   ]
  },
  {
   "cell_type": "markdown",
   "metadata": {},
   "source": [
    "#### Using t-sne technique to visualise CNN codes"
   ]
  },
  {
   "cell_type": "markdown",
   "metadata": {},
   "source": [
    "T-sne technique is suitable for high-dimensional, non-linear data. In previous tests I also used PCA technique, but the results were less promising."
   ]
  },
  {
   "cell_type": "code",
   "execution_count": null,
   "metadata": {},
   "outputs": [],
   "source": [
    "time_start = time.time()\n",
    "tsne = TSNE(n_components=2, perplexity=40, n_iter=300)\n",
    "tsne_results = tsne.fit_transform(features_inception_train)\n",
    "\n",
    "print ('T-sne done. Total time: ', time.time()-time_start, \" s\")"
   ]
  },
  {
   "cell_type": "code",
   "execution_count": null,
   "metadata": {},
   "outputs": [],
   "source": [
    "#np.save(\"backups/t-sne-1.npy\", tsne_results)\n",
    "tsne_results = np.load(\"backups/t-sne-1.npy\")"
   ]
  },
  {
   "cell_type": "code",
   "execution_count": null,
   "metadata": {},
   "outputs": [],
   "source": [
    "import seaborn as sns\n",
    "import pandas as pd\n",
    "tsne_df = pd.DataFrame({'x1':tsne_results[:,0], 'x2':tsne_results[:,1], 'label':y_train})\n",
    "sns.set(rc={'figure.dpi':100})\n",
    "sns.lmplot(x='x1', y='x2',\n",
    "                hue='label',\n",
    "                data=tsne_df,\n",
    "           fit_reg=False,\n",
    "           scatter_kws={\"s\": 5}\n",
    "                )\n",
    "plt.title(\"Features projection using t-SNE technique\")"
   ]
  },
  {
   "cell_type": "markdown",
   "metadata": {},
   "source": [
    "#### Creating out-of the-box svm classifier"
   ]
  },
  {
   "cell_type": "markdown",
   "metadata": {},
   "source": [
    "As the first try I'm using svm classifier with default parameters."
   ]
  },
  {
   "cell_type": "code",
   "execution_count": 11,
   "metadata": {},
   "outputs": [],
   "source": [
    "to_norm = features_inception_train.max() #checking max value for normalisation before passing data to the model"
   ]
  },
  {
   "cell_type": "code",
   "execution_count": 13,
   "metadata": {
    "scrolled": true
   },
   "outputs": [
    {
     "name": "stdout",
     "output_type": "stream",
     "text": [
      "\n",
      "Model fitted. Total fitting time:  76.72095060348511 s\n"
     ]
    }
   ],
   "source": [
    "time_start = time.time()\n",
    "\n",
    "clf_linear = LinearSVC() #by default C=1\n",
    "fitted_inception = clf_linear.fit(features_inception_train/to_norm, np.asarray(y_train))  \n",
    "print()\n",
    "print(\"Model fitted. Total fitting time: \", time.time()-time_start, \"s\")"
   ]
  },
  {
   "cell_type": "markdown",
   "metadata": {},
   "source": [
    "Checking basic stats regarding the model:"
   ]
  },
  {
   "cell_type": "code",
   "execution_count": 22,
   "metadata": {
    "scrolled": false
   },
   "outputs": [
    {
     "name": "stdout",
     "output_type": "stream",
     "text": [
      "Accuracy on the training set: 0.9998\n",
      "Accuracy on the test set: 0.7271\n"
     ]
    }
   ],
   "source": [
    "inception_predicted_train = fitted_inception.predict(features_inception_train)\n",
    "inception_predicted_test = fitted_inception.predict(features_inception_test)\n",
    "print('Accuracy on the training set:', round(accuracy_score(inception_predicted_train, np.asarray(y_train)),4))\n",
    "print('Accuracy on the test set:', round(accuracy_score(inception_predicted_test, np.asarray(y_test)),4))\n",
    "#print(confusion_matrix(inception_predicted_train, np.asarray(y_train)))"
   ]
  },
  {
   "cell_type": "markdown",
   "metadata": {},
   "source": [
    "Such high accuracy on the training set and relatively low on the test set indicate the overfitting problem. In this case the best solution would be to gather more data. As it's not feasible in this case (due to high memory usage), changing hyperparameter C would be the best idea. The intuition says that lowering it would help so I'm going to use cross validation to select the best value. "
   ]
  },
  {
   "cell_type": "markdown",
   "metadata": {},
   "source": [
    "\n",
    "#### Using random CV to select best parameters"
   ]
  },
  {
   "cell_type": "code",
   "execution_count": 23,
   "metadata": {},
   "outputs": [
    {
     "name": "stdout",
     "output_type": "stream",
     "text": [
      "Fitting 2 folds for each of 4 candidates, totalling 8 fits\n"
     ]
    },
    {
     "name": "stderr",
     "output_type": "stream",
     "text": [
      "[Parallel(n_jobs=-1)]: Done   8 out of   8 | elapsed:  3.8min finished\n"
     ]
    },
    {
     "name": "stdout",
     "output_type": "stream",
     "text": [
      "[LibLinear]"
     ]
    },
    {
     "data": {
      "text/plain": [
       "{'mean_fit_time': array([52.06736279, 82.23044038, 80.06489646, 60.66847718]),\n",
       " 'std_fit_time': array([10.11146212,  6.90935397,  2.91829813,  0.43632758]),\n",
       " 'mean_score_time': array([15.71349597, 20.41391945,  6.65339768,  1.24355924]),\n",
       " 'std_score_time': array([1.00615993e+01, 1.87446117e-01, 4.13503563e+00, 6.04498386e-03]),\n",
       " 'param_C': masked_array(data=[0.001, 0.01, 0.1, 1],\n",
       "              mask=[False, False, False, False],\n",
       "        fill_value='?',\n",
       "             dtype=object),\n",
       " 'params': [{'C': 0.001}, {'C': 0.01}, {'C': 0.1}, {'C': 1}],\n",
       " 'split0_test_score': array([0.64522573, 0.69676388, 0.72273272, 0.70914902]),\n",
       " 'split1_test_score': array([0.66359632, 0.71565879, 0.73648378, 0.71285543]),\n",
       " 'mean_test_score': array([0.6544, 0.7062, 0.7296, 0.711 ]),\n",
       " 'std_test_score': array([0.00918529, 0.00944745, 0.00687552, 0.0018532 ]),\n",
       " 'rank_test_score': array([4, 3, 1, 2]),\n",
       " 'split0_train_score': array([0.71846215, 0.86663997, 0.98438126, 1.        ]),\n",
       " 'split1_train_score': array([0.71634039, 0.86136636, 0.98282062, 1.        ]),\n",
       " 'mean_train_score': array([0.71740127, 0.86400316, 0.98360094, 1.        ]),\n",
       " 'std_train_score': array([0.00106088, 0.0026368 , 0.00078032, 0.        ])}"
      ]
     },
     "execution_count": 23,
     "metadata": {},
     "output_type": "execute_result"
    }
   ],
   "source": [
    "hyperparameters={'C':[0.001, 0.01, 0.1, 1]}\n",
    "clf_cv = GridSearchCV(LinearSVC(verbose=1, random_state=1), hyperparameters, cv=2, verbose=1, n_jobs=-1,return_train_score=True)\n",
    "\n",
    "model_gridCV = clf_cv.fit(features_inception_train/to_norm, np.asarray(y_train))\n",
    "model_gridCV.cv_results_"
   ]
  },
  {
   "cell_type": "markdown",
   "metadata": {},
   "source": [
    "The best C value from the selected ones is 0.1. To further improve the accuracy we could search hyperparameter space just around this value. But still, the accuracy obtained isn't satisfactiory. As I'm still tackling the overfitting problem, I'm gonna use PCA to project data into lower dimensions and check if it gets me somewhere."
   ]
  },
  {
   "cell_type": "markdown",
   "metadata": {},
   "source": [
    "#### Using PCA to prevent overfitting"
   ]
  },
  {
   "cell_type": "markdown",
   "metadata": {},
   "source": [
    "To check the optimal cut-off point I'm gonna plot no. of features vs. the variance explained"
   ]
  },
  {
   "cell_type": "code",
   "execution_count": 12,
   "metadata": {
    "scrolled": true
   },
   "outputs": [
    {
     "name": "stdout",
     "output_type": "stream",
     "text": [
      "pca finished\n"
     ]
    },
    {
     "data": {
      "text/plain": [
       "Text(0,0.5,'cumulative explained variance')"
      ]
     },
     "execution_count": 12,
     "metadata": {},
     "output_type": "execute_result"
    },
    {
     "data": {
      "image/png": "[encoded data removed]",
      "text/plain": [
       "<Figure size 432x288 with 1 Axes>"
      ]
     },
     "metadata": {},
     "output_type": "display_data"
    }
   ],
   "source": [
    "pca = PCA().fit(features_inception_train/to_norm)\n",
    "plt.plot(np.cumsum(pca.explained_variance_ratio_))\n",
    "plt.xlabel('Number of components')\n",
    "plt.ylabel('Cumulative explained variance')\n"
   ]
  },
  {
   "cell_type": "markdown",
   "metadata": {},
   "source": [
    "I will be using enough components to capture roughly 0.9 of variance."
   ]
  },
  {
   "cell_type": "code",
   "execution_count": 50,
   "metadata": {},
   "outputs": [],
   "source": [
    "pca_reduced= PCA(n_components= 2000,svd_solver='randomized', random_state=1).fit(features_inception_train/to_norm)\n",
    "pca_reduced_train= pca_reduced.transform(features_inception_train/to_norm)\n",
    "pca_reduced_test= pca_reduced.transform(features_inception_test/to_norm)"
   ]
  },
  {
   "cell_type": "markdown",
   "metadata": {},
   "source": [
    "For readability the cross validation procedure isn't included in this notebook, but best value obtained for C was again 0.1."
   ]
  },
  {
   "cell_type": "code",
   "execution_count": 51,
   "metadata": {},
   "outputs": [],
   "source": [
    "to_norm_pca = pca_reduced_train.max()"
   ]
  },
  {
   "cell_type": "code",
   "execution_count": 52,
   "metadata": {},
   "outputs": [
    {
     "name": "stdout",
     "output_type": "stream",
     "text": [
      "model created\n",
      "[LibLinear]"
     ]
    }
   ],
   "source": [
    "#using svm to classify test data\n",
    "clf_pca = LinearSVC(verbose=1, C=0.1)\n",
    "print(\"model created\")\n",
    "fitted_inception_pca = clf_pca.fit(pca_reduced_train/to_norm_pca, np.asarray(y_train))  \n",
    "\n",
    "predicted_svm_pca = fitted_inception_pca.predict(pca_reduced_test/to_norm_pca)"
   ]
  },
  {
   "cell_type": "code",
   "execution_count": 61,
   "metadata": {},
   "outputs": [
    {
     "name": "stdout",
     "output_type": "stream",
     "text": [
      "Accuracy:  0.7271\n"
     ]
    }
   ],
   "source": [
    "print(\"Accuracy: \",round(accuracy_score(predicted_svm_pca, y_test),4))\n",
    "#accuracy is lower than using data without pca transformation"
   ]
  },
  {
   "cell_type": "markdown",
   "metadata": {},
   "source": [
    "Using PCA didn't show much improvement. Last attempt in my analysis to improve accuracy is to use neural net trained on top of Inception model and see how well it performs."
   ]
  },
  {
   "cell_type": "markdown",
   "metadata": {},
   "source": [
    "## Creating classifier neural net on top of inception architecture"
   ]
  },
  {
   "cell_type": "markdown",
   "metadata": {},
   "source": [
    "Now I'm going to try using some basic neural net to classify the images. I'm using features precomputed by the Inception model. "
   ]
  },
  {
   "cell_type": "code",
   "execution_count": 29,
   "metadata": {},
   "outputs": [],
   "source": [
    "\n",
    "\n",
    "# one-hot encode the labels\n",
    "y_train_onehot = np_utils.to_categorical(y_train, 10)\n",
    "y_test_onehot = np_utils.to_categorical(y_test, 10)"
   ]
  },
  {
   "cell_type": "code",
   "execution_count": 58,
   "metadata": {},
   "outputs": [],
   "source": [
    "\n",
    "#creating some basic model\n",
    "model_custom= Sequential()\n",
    "model_custom.add(Dense(units=400, input_dim=18432, activation='relu'))\n",
    "model_custom.add(Dropout(0.5))\n",
    "model_custom.add(Dense(units=10, activation='softmax'))\n",
    "\n",
    "model_custom.compile(loss='categorical_crossentropy',\n",
    "              optimizer='sgd',\n",
    "              metrics=['accuracy'])"
   ]
  },
  {
   "cell_type": "code",
   "execution_count": 62,
   "metadata": {},
   "outputs": [
    {
     "name": "stdout",
     "output_type": "stream",
     "text": [
      "Train on 4000 samples, validate on 1000 samples\n",
      "Epoch 1/5\n",
      " - 13s - loss: 0.0570 - acc: 0.9943 - val_loss: 0.9137 - val_acc: 0.7340\n",
      "Epoch 2/5\n",
      " - 13s - loss: 0.0579 - acc: 0.9915 - val_loss: 0.9364 - val_acc: 0.7370\n",
      "Epoch 3/5\n",
      " - 14s - loss: 0.0494 - acc: 0.9948 - val_loss: 0.9546 - val_acc: 0.7320\n",
      "Epoch 4/5\n",
      " - 21s - loss: 0.0477 - acc: 0.9938 - val_loss: 0.9483 - val_acc: 0.7310\n",
      "Epoch 5/5\n",
      " - 18s - loss: 0.0452 - acc: 0.9945 - val_loss: 0.9601 - val_acc: 0.7300\n"
     ]
    },
    {
     "data": {
      "text/plain": [
       "<keras.callbacks.History at 0x128bd0d6a90>"
      ]
     },
     "execution_count": 62,
     "metadata": {},
     "output_type": "execute_result"
    }
   ],
   "source": [
    "model_custom.fit(features_inception_train, y_train_onehot, epochs=25, batch_size=50, verbose=2, validation_split=0.2)"
   ]
  },
  {
   "cell_type": "code",
   "execution_count": 63,
   "metadata": {},
   "outputs": [
    {
     "name": "stdout",
     "output_type": "stream",
     "text": [
      "2250/2250 [==============================] - 3s 1ms/step\n"
     ]
    }
   ],
   "source": [
    "predicted_nn=model_custom.evaluate(features_inception_test,y_test_onehot)\n",
    "print(\"Accuracy on the test set: \", round(predicted_nn[1],4))"
   ]
  },
  {
   "cell_type": "markdown",
   "metadata": {},
   "source": [
    "Accuracy obtained on the test set is a little bit higher than using SVM classifier."
   ]
  }
 ],
 "metadata": {
  "kernelspec": {
   "display_name": "Python 3",
   "language": "python",
   "name": "python3"
  },
  "language_info": {
   "codemirror_mode": {
    "name": "ipython",
    "version": 3
   },
   "file_extension": ".py",
   "mimetype": "text/x-python",
   "name": "python",
   "nbconvert_exporter": "python",
   "pygments_lexer": "ipython3",
   "version": "3.6.5"
  }
 },
 "nbformat": 4,
 "nbformat_minor": 2
}
