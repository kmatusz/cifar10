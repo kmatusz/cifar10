{
 "cells": [
  {
   "cell_type": "code",
   "execution_count": 1,
   "metadata": {},
   "outputs": [],
   "source": [
    "import pickle\n",
    "import collections\n",
    "import time\n",
    "import numpy as np\n",
    "\n",
    "from keras.preprocessing import image\n",
    "from PIL import Image\n",
    "from keras.applications.inception_v3 import InceptionV3\n",
    "\n",
    "import matplotlib.pyplot as plt\n",
    "from sklearn.model_selection import train_test_split\n",
    "from skimage.transform import resize\n",
    "from skimage.feature import hog\n",
    "from sklearn import svm\n",
    "from sklearn.manifold import TSNE\n",
    "from sklearn.decomposition import PCA\n",
    "from sklearn.svm import LinearSVC\n",
    "from sklearn.metrics import accuracy_score, confusion_matrix\n",
    "\n",
    "%config IPCompleter.greedy=True"
   ]
  },
  {
   "cell_type": "markdown",
   "metadata": {},
   "source": [
    "## Loading data and checking structure"
   ]
  },
  {
   "cell_type": "code",
   "execution_count": 4,
   "metadata": {},
   "outputs": [],
   "source": [
    "#little snippet taken from cifar-10 website\n",
    "def unpickle(file):\n",
    "    import pickle\n",
    "    with open(file, 'rb') as fo:\n",
    "        dict = pickle.load(fo, encoding='bytes')\n",
    "    return dict"
   ]
  },
  {
   "cell_type": "code",
   "execution_count": 5,
   "metadata": {},
   "outputs": [
    {
     "data": {
      "text/plain": [
       "{b'num_cases_per_batch': 10000,\n",
       " b'label_names': [b'airplane',\n",
       "  b'automobile',\n",
       "  b'bird',\n",
       "  b'cat',\n",
       "  b'deer',\n",
       "  b'dog',\n",
       "  b'frog',\n",
       "  b'horse',\n",
       "  b'ship',\n",
       "  b'truck'],\n",
       " b'num_vis': 3072}"
      ]
     },
     "execution_count": 5,
     "metadata": {},
     "output_type": "execute_result"
    }
   ],
   "source": [
    "#checking labels\n",
    "unpickle('data\\\\batches.meta') "
   ]
  },
  {
   "cell_type": "code",
   "execution_count": 6,
   "metadata": {},
   "outputs": [
    {
     "name": "stdout",
     "output_type": "stream",
     "text": [
      "dict_keys([b'batch_label', b'labels', b'data', b'filenames'])\n",
      "(10000, 3072)\n",
      "10000\n",
      "Counter({2: 1032, 6: 1030, 8: 1025, 3: 1016, 0: 1005, 7: 1001, 4: 999, 9: 981, 1: 974, 5: 937})\n"
     ]
    }
   ],
   "source": [
    "#checking structure of one batch\n",
    "batch1 = unpickle('data\\data_batch_1')\n",
    "print(batch1.keys())\n",
    "print(batch1[b'data'].shape)\n",
    "print(len(batch1[b'labels']))\n",
    "print(collections.Counter(batch1[b'labels']))"
   ]
  },
  {
   "cell_type": "code",
   "execution_count": 7,
   "metadata": {},
   "outputs": [],
   "source": [
    "#loading full dataset\n",
    "x=batch1[b'data']\n",
    "y=batch1[b'labels']\n",
    "\n",
    "for i in range(2,6):\n",
    "    temp_dict= unpickle('data\\data_batch_'+str(i) )\n",
    "    x=np.append(x, temp_dict[b'data'], axis=0)\n",
    "    y=y+temp_dict[b'labels']"
   ]
  },
  {
   "cell_type": "code",
   "execution_count": 8,
   "metadata": {},
   "outputs": [
    {
     "name": "stdout",
     "output_type": "stream",
     "text": [
      "Counter({6: 5000, 9: 5000, 4: 5000, 1: 5000, 2: 5000, 7: 5000, 8: 5000, 3: 5000, 5: 5000, 0: 5000})\n"
     ]
    }
   ],
   "source": [
    "print(collections.Counter(y)) #checking distribution of labels"
   ]
  },
  {
   "cell_type": "markdown",
   "metadata": {},
   "source": [
    "## Randomly selecting images to modelling"
   ]
  },
  {
   "cell_type": "code",
   "execution_count": null,
   "metadata": {},
   "outputs": [],
   "source": [
    "#train and test sets\n",
    "x_left, x_small, y_left, y_small = train_test_split(\n",
    "    x, y, test_size=0.1, random_state=42)\n",
    "x_left, x_test, y_left, y_test = train_test_split(\n",
    "    x_left, y_left, test_size=0.05, random_state=42)\n",
    "\n",
    "#remove auxiliary data\n",
    "del x_left\n",
    "del y_left\n",
    "del x\n",
    "del y\n",
    "x_small.shape"
   ]
  },
  {
   "cell_type": "markdown",
   "metadata": {},
   "source": [
    "## Extracting features from training and test datasets"
   ]
  },
  {
   "cell_type": "code",
   "execution_count": null,
   "metadata": {},
   "outputs": [],
   "source": [
    "def preprocess_inception (df): #function for generating CNN from image data\n",
    "    df_small_reshaped=[]\n",
    "    time_start=time.time() #timer\n",
    "    for i in range(len(df)): \n",
    "        df_small_reshaped.append(df[i].reshape(3,1024).T.reshape(32,32,3))\n",
    "    df= np.asarray(df_small_reshaped)\n",
    "    print(\"Image data reshaped\")\n",
    "    \n",
    "    #removing top layer, input shape set to default for inception model\n",
    "    model = InceptionV3(weights='imagenet', include_top=False, input_shape=(139, 139, 3)) \n",
    "    print(\"Model created\")\n",
    "    \n",
    "    df_train_resized = np.array([resize(df[i], (139, 139, 3)) \n",
    "                        for i in range(0, len(df))]).astype('float32')\n",
    "    print(\"image resized to suit inception model\")\n",
    "    features_inception = model.predict(df_train_resized, verbose=1)\n",
    "    print(\"features predicted\")\n",
    "    features_inception = np.squeeze(features_inception)\n",
    "    features_inception = features_inception.reshape((len(df), 3*3*2048))\n",
    "    print(\"features reshaped to suit sklearn models\")\n",
    "    print(\"total time:  \", time.time()-time_start, \" s\")\n",
    "    return features_inception\n",
    "    "
   ]
  }
 ],
 "metadata": {
  "kernelspec": {
   "display_name": "Python 3",
   "language": "python",
   "name": "python3"
  },
  "language_info": {
   "codemirror_mode": {
    "name": "ipython",
    "version": 3
   },
   "file_extension": ".py",
   "mimetype": "text/x-python",
   "name": "python",
   "nbconvert_exporter": "python",
   "pygments_lexer": "ipython3",
   "version": "3.6.5"
  }
 },
 "nbformat": 4,
 "nbformat_minor": 2
}
