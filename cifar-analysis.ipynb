{
 "cells": [
  {
   "cell_type": "code",
   "execution_count": 1,
   "metadata": {},
   "outputs": [
    {
     "name": "stderr",
     "output_type": "stream",
     "text": [
      "C:\\ProgramData\\Anaconda3\\lib\\site-packages\\h5py\\__init__.py:36: FutureWarning: Conversion of the second argument of issubdtype from `float` to `np.floating` is deprecated. In future, it will be treated as `np.float64 == np.dtype(float).type`.\n",
      "  from ._conv import register_converters as _register_converters\n",
      "Using TensorFlow backend.\n"
     ]
    }
   ],
   "source": [
    "import pickle\n",
    "import collections\n",
    "import time\n",
    "\n",
    "from keras.preprocessing import image\n",
    "from PIL import Image\n",
    "from keras.applications.inception_v3 import InceptionV3\n",
    "\n",
    "import matplotlib.pyplot as plt\n",
    "import numpy as np\n",
    "from sklearn.model_selection import train_test_split\n",
    "from skimage.transform import resize\n",
    "from skimage.feature import hog\n",
    "from sklearn import svm\n",
    "from sklearn.manifold import TSNE\n",
    "from sklearn.decomposition import PCA\n",
    "from sklearn.svm import LinearSVC\n",
    "from sklearn.metrics import accuracy_score, confusion_matrix\n",
    "from sklearn.model_selection import GridSearchCV, RandomizedCV\n",
    "from scipy.stats import uniform\n",
    "from sklearn.ensemble import RandomForestClassifier\n",
    "\n",
    "from mpl_toolkits.axes_grid1 import ImageGrid\n",
    "\n",
    "%config IPCompleter.greedy=True"
   ]
  },
  {
   "cell_type": "markdown",
   "metadata": {},
   "source": [
    "## Loading data and checking structure"
   ]
  },
  {
   "cell_type": "code",
   "execution_count": 31,
   "metadata": {},
   "outputs": [],
   "source": [
    "#little snippet taken from cifar-10 website\n",
    "def unpickle(file):\n",
    "    import pickle\n",
    "    with open(file, 'rb') as fo:\n",
    "        dict = pickle.load(fo, encoding='bytes')\n",
    "    return dict"
   ]
  },
  {
   "cell_type": "code",
   "execution_count": 32,
   "metadata": {
    "scrolled": false
   },
   "outputs": [
    {
     "data": {
      "text/plain": [
       "{b'num_cases_per_batch': 10000,\n",
       " b'label_names': [b'airplane',\n",
       "  b'automobile',\n",
       "  b'bird',\n",
       "  b'cat',\n",
       "  b'deer',\n",
       "  b'dog',\n",
       "  b'frog',\n",
       "  b'horse',\n",
       "  b'ship',\n",
       "  b'truck'],\n",
       " b'num_vis': 3072}"
      ]
     },
     "execution_count": 32,
     "metadata": {},
     "output_type": "execute_result"
    }
   ],
   "source": [
    "#checking labels\n",
    "unpickle('data\\\\batches.meta') "
   ]
  },
  {
   "cell_type": "code",
   "execution_count": 33,
   "metadata": {},
   "outputs": [
    {
     "name": "stdout",
     "output_type": "stream",
     "text": [
      "dict_keys([b'batch_label', b'labels', b'data', b'filenames'])\n",
      "(10000, 3072)\n",
      "10000\n",
      "Counter({2: 1032, 6: 1030, 8: 1025, 3: 1016, 0: 1005, 7: 1001, 4: 999, 9: 981, 1: 974, 5: 937})\n"
     ]
    }
   ],
   "source": [
    "#checking structure of one batch\n",
    "batch1 = unpickle('data\\data_batch_1')\n",
    "print(batch1.keys())\n",
    "print(batch1[b'data'].shape)\n",
    "print(len(batch1[b'labels']))\n",
    "print(collections.Counter(batch1[b'labels']))"
   ]
  },
  {
   "cell_type": "code",
   "execution_count": 34,
   "metadata": {},
   "outputs": [],
   "source": [
    "#loading full dataset\n",
    "x=batch1[b'data']\n",
    "y=batch1[b'labels']\n",
    "\n",
    "for i in range(2,6):\n",
    "    temp_dict= unpickle('data\\data_batch_'+str(i) )\n",
    "    x=np.append(x, temp_dict[b'data'], axis=0)\n",
    "    y=y+temp_dict[b'labels']"
   ]
  },
  {
   "cell_type": "code",
   "execution_count": 35,
   "metadata": {
    "scrolled": true
   },
   "outputs": [
    {
     "name": "stdout",
     "output_type": "stream",
     "text": [
      "Counter({6: 5000, 9: 5000, 4: 5000, 1: 5000, 2: 5000, 7: 5000, 8: 5000, 3: 5000, 5: 5000, 0: 5000})\n"
     ]
    }
   ],
   "source": [
    "print(collections.Counter(y)) #checking distribution of labels"
   ]
  },
  {
   "cell_type": "markdown",
   "metadata": {},
   "source": [
    "## Randomly selecting images to modelling"
   ]
  },
  {
   "cell_type": "markdown",
   "metadata": {},
   "source": [
    "Because I didn't have access to proper GPU, I used 1/10 of the dataset for training and 1/20 for validation."
   ]
  },
  {
   "cell_type": "code",
   "execution_count": 36,
   "metadata": {
    "scrolled": true
   },
   "outputs": [
    {
     "data": {
      "text/plain": [
       "(5000, 3072)"
      ]
     },
     "execution_count": 36,
     "metadata": {},
     "output_type": "execute_result"
    }
   ],
   "source": [
    "#train and test sets\n",
    "x_left, x_train, y_left, y_train = train_test_split(\n",
    "    x, y, test_size=0.1, random_state=42)\n",
    "x_left, x_test, y_left, y_test = train_test_split(\n",
    "    x_left, y_left, test_size=0.05, random_state=42)\n",
    "\n",
    "#remove auxiliary data\n",
    "del x_left\n",
    "del y_left\n",
    "del x\n",
    "del y\n",
    "x_train.shape"
   ]
  },
  {
   "cell_type": "markdown",
   "metadata": {},
   "source": [
    "## Extracting features from training and test datasets"
   ]
  },
  {
   "cell_type": "markdown",
   "metadata": {},
   "source": []
  },
  {
   "cell_type": "code",
   "execution_count": 8,
   "metadata": {},
   "outputs": [],
   "source": [
    "\n",
    "def preprocess_inception (df, only_reshape=False): \n",
    "    #the function first reshapes the input data to proper image format. Later it resizes the imagest to fit InceptionV3 net.\n",
    "    #The last layer is removed from the net and features are extracted.\n",
    "    \n",
    "    df_small_reshaped=[]\n",
    "    time_start=time.time() #timer\n",
    "    for i in range(len(df)): \n",
    "        df_small_reshaped.append(df[i].reshape(3,1024).T.reshape(32,32,3))\n",
    "    df= np.asarray(df_small_reshaped)\n",
    "    print(\"Image data reshaped\")\n",
    "    if only_reshape:\n",
    "        print(\"selected only reshaping mode\")\n",
    "        return df\n",
    "    \n",
    "    #removing top layer, input shape set to default for inception model\n",
    "    model = InceptionV3(weights='imagenet', include_top=False, input_shape=(139, 139, 3)) \n",
    "    print(\"Model created\")\n",
    "    \n",
    "    df_train_resized = np.array([resize(df[i], (139, 139, 3)) \n",
    "                        for i in range(0, len(df))]).astype('float32')\n",
    "    print(\"image resized to suit inception model\")\n",
    "    features_inception = model.predict(df_train_resized, verbose=1)\n",
    "    print(\"features predicted\")\n",
    "    features_inception = np.squeeze(features_inception)\n",
    "    features_inception = features_inception.reshape((len(df), 3*3*2048))\n",
    "    print(\"features reshaped to suit sklearn models\")\n",
    "    print(\"total time:  \", time.time()-time_start, \" s\")\n",
    "    return features_inception\n",
    "    "
   ]
  },
  {
   "cell_type": "code",
   "execution_count": 3,
   "metadata": {},
   "outputs": [],
   "source": [
    "#creating training and test sets using features extraction\n",
    "features_inception_train = np.load(\"backups/features_inception_train.npy\")\n",
    "features_inception_test = np.load(\"backups/features_inception_test.npy\")\n",
    "#features_inception_test = preprocess_inception(x_test)\n",
    "#features_inception_train = preprocess_inception(x_train)\n",
    "#np.save(\"backups/features_inception_train.npy\", features_inception_train)\n",
    "#np.save(\"backups/features_inception_test.npy\", features_inception_test)"
   ]
  },
  {
   "cell_type": "markdown",
   "metadata": {},
   "source": [
    "## Using HOG technique to extract features from dataset"
   ]
  },
  {
   "cell_type": "code",
   "execution_count": 9,
   "metadata": {},
   "outputs": [
    {
     "name": "stdout",
     "output_type": "stream",
     "text": [
      "Image data reshaped\n",
      "selected only reshaping mode\n",
      "Image data reshaped\n",
      "selected only reshaping mode\n"
     ]
    }
   ],
   "source": [
    "#preprocessing image dataset to greyscale\n",
    "features_hog_train= preprocess_inception(x_train, only_reshape=True)\n",
    "features_hog_test= preprocess_inception(x_test, only_reshape=True)\n",
    "features_hog_train=np.squeeze((0.21 * features_hog_train[:,:,:,:1]) + (0.72 * features_hog_train[:,:,:,1:2]) + (0.07 * features_hog_train[:,:,:,-1:]))\n",
    "features_hog_test=np.squeeze((0.21 * features_hog_test[:,:,:,:1]) + (0.72 * features_hog_test[:,:,:,1:2]) + (0.07 * features_hog_test[:,:,:,-1:]))"
   ]
  },
  {
   "cell_type": "code",
   "execution_count": 17,
   "metadata": {},
   "outputs": [
    {
     "name": "stderr",
     "output_type": "stream",
     "text": [
      "C:\\ProgramData\\Anaconda3\\lib\\site-packages\\skimage\\feature\\_hog.py:119: skimage_deprecation: Default value of `block_norm`==`L1` is deprecated and will be changed to `L2-Hys` in v0.15\n",
      "  'be changed to `L2-Hys` in v0.15', skimage_deprecation)\n"
     ]
    }
   ],
   "source": [
    "hog_features_train=[]\n",
    "for image in features_hog_train:\n",
    "    hog_features_train.append( hog(image, orientations=8))\n",
    "\n",
    "hog_features_train=np.asarray(hog_features_train)"
   ]
  },
  {
   "cell_type": "code",
   "execution_count": 24,
   "metadata": {},
   "outputs": [],
   "source": [
    "def compute_hog(data):\n",
    "    hog_features=[]\n",
    "    for image in data:\n",
    "        hog_features.append( hog(image, orientations=8))\n",
    "\n",
    "    hog_features=np.asarray(hog_features)\n",
    "    return hog_features"
   ]
  },
  {
   "cell_type": "code",
   "execution_count": 25,
   "metadata": {},
   "outputs": [
    {
     "name": "stderr",
     "output_type": "stream",
     "text": [
      "C:\\ProgramData\\Anaconda3\\lib\\site-packages\\skimage\\feature\\_hog.py:119: skimage_deprecation: Default value of `block_norm`==`L1` is deprecated and will be changed to `L2-Hys` in v0.15\n",
      "  'be changed to `L2-Hys` in v0.15', skimage_deprecation)\n"
     ]
    }
   ],
   "source": [
    "features_hog_train=compute_hog(features_hog_train)\n",
    "features_hog_test=compute_hog(features_hog_test)"
   ]
  },
  {
   "cell_type": "code",
   "execution_count": 21,
   "metadata": {},
   "outputs": [
    {
     "data": {
      "text/plain": [
       "<matplotlib.image.AxesImage at 0x1d201ea9cf8>"
      ]
     },
     "execution_count": 21,
     "metadata": {},
     "output_type": "execute_result"
    },
    {
     "data": {
      "image/png": "[encoded data removed]",
      "text/plain": [
       "<Figure size 432x288 with 1 Axes>"
      ]
     },
     "metadata": {},
     "output_type": "display_data"
    }
   ],
   "source": [
    "#zostawić?\n",
    "plt.imshow(hog_features_train[1][1], cmap=plt.cm.gray)"
   ]
  },
  {
   "cell_type": "code",
   "execution_count": 54,
   "metadata": {},
   "outputs": [],
   "source": [
    "#creating shallow classifier using hog features\n",
    "hog_clf = LinearSVC(C=2)\n",
    "hog_fitted = hog_clf.fit(features_hog_train, np.asarray(y_train))  \n"
   ]
  },
  {
   "cell_type": "code",
   "execution_count": 55,
   "metadata": {},
   "outputs": [
    {
     "data": {
      "text/plain": [
       "(2250,)"
      ]
     },
     "execution_count": 55,
     "metadata": {},
     "output_type": "execute_result"
    }
   ],
   "source": [
    "hog_predicted = hog_fitted.predict(features_hog_test)\n",
    "hog_predicted.shape"
   ]
  },
  {
   "cell_type": "code",
   "execution_count": 56,
   "metadata": {
    "scrolled": true
   },
   "outputs": [
    {
     "name": "stdout",
     "output_type": "stream",
     "text": [
      "0.43822222222222224\n"
     ]
    },
    {
     "data": {
      "text/plain": [
       "array([[107,   6,  23,  11,  23,   5,  12,  11,  27,   4],\n",
       "       [ 13, 133,  12,  19,   5,  10,  18,   5,  21,  38],\n",
       "       [ 19,   0,  70,  21,  26,  27,  29,  21,   8,   3],\n",
       "       [  2,   8,  14,  40,  18,  30,  17,  13,   1,   4],\n",
       "       [  3,   4,  10,   8,  44,   6,   5,  12,   0,   2],\n",
       "       [  5,   1,  35,  44,  16,  88,  13,  25,   3,  12],\n",
       "       [ 11,  13,  22,  35,  25,  29, 145,   5,   9,   3],\n",
       "       [  9,   6,  11,  28,  41,  27,  10, 122,   6,   9],\n",
       "       [ 52,  29,  13,   3,  19,   1,   8,   4, 125,  18],\n",
       "       [  9,  21,   4,  11,  11,   4,   4,  10,  16, 112]], dtype=int64)"
      ]
     },
     "execution_count": 56,
     "metadata": {},
     "output_type": "execute_result"
    }
   ],
   "source": [
    "\n",
    "print(accuracy_score(hog_predicted, y_test))\n",
    "confusion_matrix(hog_predicted, y_test)\n"
   ]
  },
  {
   "cell_type": "code",
   "execution_count": 51,
   "metadata": {},
   "outputs": [
    {
     "name": "stdout",
     "output_type": "stream",
     "text": [
      "Fitting 2 folds for each of 6 candidates, totalling 12 fits\n"
     ]
    },
    {
     "name": "stderr",
     "output_type": "stream",
     "text": [
      "[Parallel(n_jobs=-1)]: Done  12 out of  12 | elapsed:   25.8s finished\n"
     ]
    },
    {
     "name": "stdout",
     "output_type": "stream",
     "text": [
      "[LibLinear]"
     ]
    }
   ],
   "source": [
    "from sklearn.model_selection import GridSearchCV\n",
    "hyperparameters={'C':[0.001, 0.01, 0.1, 1, 2,5]}\n",
    "clf_hog_cv = GridSearchCV(LinearSVC(verbose=1, random_state=1), hyperparameters, cv=2, verbose=1, n_jobs=-1,return_train_score=True)\n",
    "\n",
    "model_hog_gridCV = clf_hog_cv.fit(features_hog_train, np.asarray(y_train))\n",
    "#best acc using C=2, about 0.44 on test set"
   ]
  },
  {
   "cell_type": "code",
   "execution_count": 53,
   "metadata": {},
   "outputs": [
    {
     "data": {
      "text/plain": [
       "{'mean_fit_time': array([0.6950866 , 0.70285249, 1.19491208, 2.36820626, 3.53367257,\n",
       "        6.18408477]),\n",
       " 'std_fit_time': array([0.00781572, 0.06250119, 0.03903544, 0.00603509, 0.01562285,\n",
       "        0.06421578]),\n",
       " 'mean_score_time': array([0.0233928 , 0.03123987, 0.00781381, 0.01561725, 0.01562428,\n",
       "        0.00777233]),\n",
       " 'std_score_time': array([7.84289837e-03, 1.56186819e-02, 7.81381130e-03, 2.02655792e-06,\n",
       "        4.29153442e-06, 7.77232647e-03]),\n",
       " 'param_C': masked_array(data=[0.001, 0.01, 0.1, 1, 2, 5],\n",
       "              mask=[False, False, False, False, False, False],\n",
       "        fill_value='?',\n",
       "             dtype=object),\n",
       " 'params': [{'C': 0.001},\n",
       "  {'C': 0.01},\n",
       "  {'C': 0.1},\n",
       "  {'C': 1},\n",
       "  {'C': 2},\n",
       "  {'C': 5}],\n",
       " 'split0_test_score': array([0.19776268, 0.31362365, 0.40950859, 0.44346784, 0.44706352,\n",
       "        0.44107072]),\n",
       " 'split1_test_score': array([0.2102523 , 0.33880657, 0.39887865, 0.42811374, 0.43251902,\n",
       "        0.42330797]),\n",
       " 'mean_test_score': array([0.204 , 0.3262, 0.4042, 0.4358, 0.4398, 0.4322]),\n",
       " 'std_test_score': array([0.0062448 , 0.01259145, 0.00531496, 0.00767705, 0.00727225,\n",
       "        0.00888137]),\n",
       " 'rank_test_score': array([6, 5, 4, 2, 1, 3]),\n",
       " 'split0_train_score': array([0.21786143, 0.35482579, 0.45214257, 0.51581898, 0.53424109,\n",
       "        0.54865839]),\n",
       " 'split1_train_score': array([0.20015981, 0.36356372, 0.43907311, 0.51977627, 0.53615661,\n",
       "        0.55453456]),\n",
       " 'mean_train_score': array([0.20901062, 0.35919476, 0.44560784, 0.51779763, 0.53519885,\n",
       "        0.55159647]),\n",
       " 'std_train_score': array([0.00885081, 0.00436897, 0.00653473, 0.00197864, 0.00095776,\n",
       "        0.00293808])}"
      ]
     },
     "execution_count": 53,
     "metadata": {},
     "output_type": "execute_result"
    }
   ],
   "source": [
    "model_hog_gridCV.cv_results_"
   ]
  },
  {
   "cell_type": "markdown",
   "metadata": {},
   "source": [
    "## Creating svm classifier"
   ]
  },
  {
   "cell_type": "code",
   "execution_count": 5,
   "metadata": {},
   "outputs": [
    {
     "data": {
      "text/plain": [
       "31.990528"
      ]
     },
     "execution_count": 5,
     "metadata": {},
     "output_type": "execute_result"
    }
   ],
   "source": [
    "to_norm = features_inception_train.max()\n",
    "to_norm"
   ]
  },
  {
   "cell_type": "code",
   "execution_count": 32,
   "metadata": {
    "scrolled": true
   },
   "outputs": [
    {
     "name": "stdout",
     "output_type": "stream",
     "text": [
      "model created\n",
      "[LibLinear]model fitted\n",
      "time: 57.443443775177\n"
     ]
    }
   ],
   "source": [
    "time_start = time.time()\n",
    "#małe C- underfituje \n",
    "clf_linear = LinearSVC(verbose=1, C=0.1)\n",
    "print(\"model created\")\n",
    "fitted_inception = clf_linear.fit(features_inception_train/to_norm, np.asarray(y_train))  \n",
    "print(\"model fitted\")\n",
    "print(\"time:\", time.time()-time_start)"
   ]
  },
  {
   "cell_type": "code",
   "execution_count": 33,
   "metadata": {},
   "outputs": [
    {
     "name": "stdout",
     "output_type": "stream",
     "text": [
      "0.9722\n",
      "[[453   0   3   0   0   0   0   0   3   1]\n",
      " [  0 480   0   0   0   0   0   0   0   0]\n",
      " [  3   0 519   8  13   0  12   1   4   0]\n",
      " [  0   0   0 504   4   2   1   0   0   0]\n",
      " [  2   0   0   1 447   0   6   2   0   0]\n",
      " [  0   0   1   4   2 499   1   1   0   0]\n",
      " [  0   0   4   4   6   1 464   0   0   0]\n",
      " [  2   0   0   1   7   1   0 505   0   0]\n",
      " [  4   0   0   0   4   1   0   0 491   0]\n",
      " [ 12   7   0   1   3   0   1   0   5 499]]\n"
     ]
    }
   ],
   "source": [
    "inception_predicted_train = fitted_inception.predict(features_inception_train)\n",
    "print(accuracy_score(inception_predicted_train, np.asarray(y_train)))\n",
    "print(confusion_matrix(inception_predicted_train, np.asarray(y_train)))"
   ]
  },
  {
   "cell_type": "code",
   "execution_count": 34,
   "metadata": {},
   "outputs": [
    {
     "name": "stdout",
     "output_type": "stream",
     "text": [
      "0.7622222222222222\n",
      "[[182   2  11   6  11   2   1   5  10   3]\n",
      " [  2 194   3   3   0   0   0   0   3   7]\n",
      " [  4   0 146  13  10   9  16   9   4   1]\n",
      " [  4   1  11 132   9  32  18   7   2   4]\n",
      " [  4   0  26  10 159   8  11  16   6   3]\n",
      " [  1   1   2  24   2 156   3   8   2   0]\n",
      " [  2   0  11  11  14   5 210   4   2   1]\n",
      " [  5   0   3  12  17  12   0 176   0   1]\n",
      " [ 23   5   0   2   5   1   1   0 184   9]\n",
      " [  3  18   1   7   1   2   1   3   3 176]]\n"
     ]
    }
   ],
   "source": [
    "inception_predicted_test = fitted_inception.predict(features_inception_test/to_norm)\n",
    "print(accuracy_score(inception_predicted_test, np.asarray(y_test)))\n",
    "print(confusion_matrix(inception_predicted_test, np.asarray(y_test)))\n"
   ]
  },
  {
   "cell_type": "markdown",
   "metadata": {},
   "source": [
    "## Using random CV to select best parameters"
   ]
  },
  {
   "cell_type": "code",
   "execution_count": 30,
   "metadata": {},
   "outputs": [
    {
     "name": "stdout",
     "output_type": "stream",
     "text": [
      "Fitting 2 folds for each of 4 candidates, totalling 8 fits\n"
     ]
    },
    {
     "name": "stderr",
     "output_type": "stream",
     "text": [
      "[Parallel(n_jobs=-1)]: Done   8 out of   8 | elapsed:  4.6min finished\n"
     ]
    },
    {
     "name": "stdout",
     "output_type": "stream",
     "text": [
      "[LibLinear]"
     ]
    }
   ],
   "source": [
    "#random hyperparameter search  using cross-validation\n",
    "\n",
    "\n",
    "hyperparameters={'C':[0.001, 0.01, 0.1, 1]}\n",
    "clf_cv = GridSearchCV(LinearSVC(verbose=1, random_state=1), hyperparameters, cv=2, verbose=1, n_jobs=-1,return_train_score=True)\n",
    "\n",
    "model_gridCV = clf_cv.fit(features_inception_train/to_norm, np.asarray(y_train))"
   ]
  },
  {
   "cell_type": "code",
   "execution_count": 31,
   "metadata": {
    "scrolled": true
   },
   "outputs": [
    {
     "name": "stderr",
     "output_type": "stream",
     "text": [
      "C:\\ProgramData\\Anaconda3\\lib\\site-packages\\sklearn\\utils\\deprecation.py:122: FutureWarning: You are accessing a training score ('split0_train_score'), which will not be available by default any more in 0.21. If you need training scores, please set return_train_score=True\n",
      "  warnings.warn(*warn_args, **warn_kwargs)\n",
      "C:\\ProgramData\\Anaconda3\\lib\\site-packages\\sklearn\\utils\\deprecation.py:122: FutureWarning: You are accessing a training score ('split1_train_score'), which will not be available by default any more in 0.21. If you need training scores, please set return_train_score=True\n",
      "  warnings.warn(*warn_args, **warn_kwargs)\n",
      "C:\\ProgramData\\Anaconda3\\lib\\site-packages\\sklearn\\utils\\deprecation.py:122: FutureWarning: You are accessing a training score ('mean_train_score'), which will not be available by default any more in 0.21. If you need training scores, please set return_train_score=True\n",
      "  warnings.warn(*warn_args, **warn_kwargs)\n",
      "C:\\ProgramData\\Anaconda3\\lib\\site-packages\\sklearn\\utils\\deprecation.py:122: FutureWarning: You are accessing a training score ('std_train_score'), which will not be available by default any more in 0.21. If you need training scores, please set return_train_score=True\n",
      "  warnings.warn(*warn_args, **warn_kwargs)\n"
     ]
    },
    {
     "data": {
      "text/plain": [
       "{'mean_fit_time': array([74.20586073, 74.73808491, 92.75506938, 88.48551345]),\n",
       " 'std_fit_time': array([ 2.92270839,  6.20643818,  3.73495972, 11.05346799]),\n",
       " 'mean_score_time': array([17.26347899, 21.9524467 ,  9.46322083,  1.56676674]),\n",
       " 'std_score_time': array([1.61725235, 5.02536583, 5.51136708, 0.37964725]),\n",
       " 'param_C': masked_array(data=[0.001, 0.01, 0.1, 1],\n",
       "              mask=[False, False, False, False],\n",
       "        fill_value='?',\n",
       "             dtype=object),\n",
       " 'params': [{'C': 0.001}, {'C': 0.01}, {'C': 0.1}, {'C': 1}],\n",
       " 'split0_test_score': array([0.64522573, 0.69676388, 0.72273272, 0.70914902]),\n",
       " 'split1_test_score': array([0.66359632, 0.71565879, 0.73648378, 0.71285543]),\n",
       " 'mean_test_score': array([0.6544, 0.7062, 0.7296, 0.711 ]),\n",
       " 'std_test_score': array([0.00918529, 0.00944745, 0.00687552, 0.0018532 ]),\n",
       " 'rank_test_score': array([4, 3, 1, 2]),\n",
       " 'split0_train_score': array([0.71846215, 0.86663997, 0.98438126, 1.        ]),\n",
       " 'split1_train_score': array([0.71634039, 0.86136636, 0.98282062, 1.        ]),\n",
       " 'mean_train_score': array([0.71740127, 0.86400316, 0.98360094, 1.        ]),\n",
       " 'std_train_score': array([0.00106088, 0.0026368 , 0.00078032, 0.        ])}"
      ]
     },
     "execution_count": 31,
     "metadata": {},
     "output_type": "execute_result"
    }
   ],
   "source": [
    "model_gridCV.cv_results_\n",
    "#best results using C==0.1"
   ]
  },
  {
   "cell_type": "code",
   "execution_count": null,
   "metadata": {},
   "outputs": [],
   "source": [
    "#creating another CV search around C==0.1"
   ]
  },
  {
   "cell_type": "markdown",
   "metadata": {},
   "source": [
    "## Using gradient boosting as alternative model"
   ]
  },
  {
   "cell_type": "code",
   "execution_count": 39,
   "metadata": {},
   "outputs": [
    {
     "name": "stdout",
     "output_type": "stream",
     "text": [
      "model created\n",
      "model fitted\n",
      "time: 9.75406551361084\n"
     ]
    },
    {
     "name": "stderr",
     "output_type": "stream",
     "text": [
      "[Parallel(n_jobs=1)]: Done  10 out of  10 | elapsed:    8.7s finished\n"
     ]
    }
   ],
   "source": [
    "time_start = time.time()\n",
    "\n",
    "clf_gbc = RandomForestClassifier(verbose=1)\n",
    "print(\"model created\")\n",
    "fitted_inception_gbc = clf_gbc.fit(features_inception_train/to_norm, np.asarray(y_train))  \n",
    "print(\"model fitted\")\n",
    "print(\"time:\", time.time()-time_start)"
   ]
  },
  {
   "cell_type": "code",
   "execution_count": 40,
   "metadata": {},
   "outputs": [
    {
     "name": "stdout",
     "output_type": "stream",
     "text": [
      "0.4666666666666667\n",
      "[[117  12  38  25  31  11  13  17  33  27]\n",
      " [ 17 159   7  10   4   6   3   4  17  28]\n",
      " [ 25   5  67  30  29  26  39  22  14   1]\n",
      " [  6   6  20  71  19  47  43  21   5   4]\n",
      " [ 13   0  32  16  93   9  35  22  11   8]\n",
      " [  4   2  12  22   1 101   6  20   5   1]\n",
      " [ 12   1  17  21  23   7 116   4   2   4]\n",
      " [  4   1   9  12  21  15   1 107   5   3]\n",
      " [ 19  12   9   9   3   2   5   7 105  15]\n",
      " [ 13  23   3   4   4   3   0   4  19 114]]\n"
     ]
    },
    {
     "name": "stderr",
     "output_type": "stream",
     "text": [
      "[Parallel(n_jobs=1)]: Done  10 out of  10 | elapsed:    0.1s finished\n"
     ]
    }
   ],
   "source": [
    "inception_predicted_gbc_test = fitted_inception_gbc.predict(features_inception_test/to_norm)\n",
    "print(accuracy_score(inception_predicted_gbc_test, np.asarray(y_test)))\n",
    "print(confusion_matrix(inception_predicted_gbc_test, np.asarray(y_test)))\n",
    "#chujowy znowu"
   ]
  },
  {
   "cell_type": "markdown",
   "metadata": {},
   "source": [
    "## Using PCA to reduce dimensionality to prevent overfitting"
   ]
  },
  {
   "cell_type": "code",
   "execution_count": 12,
   "metadata": {
    "scrolled": true
   },
   "outputs": [
    {
     "name": "stdout",
     "output_type": "stream",
     "text": [
      "pca finished\n"
     ]
    },
    {
     "data": {
      "text/plain": [
       "Text(0,0.5,'cumulative explained variance')"
      ]
     },
     "execution_count": 12,
     "metadata": {},
     "output_type": "execute_result"
    },
    {
     "data": {
      "image/png": "[encoded data removed]",
      "text/plain": [
       "<Figure size 432x288 with 1 Axes>"
      ]
     },
     "metadata": {},
     "output_type": "display_data"
    }
   ],
   "source": [
    "pca = PCA().fit(features_inception_train/to_norm)\n",
    "print(\"pca finished\")\n",
    "plt.plot(np.cumsum(pca.explained_variance_ratio_))\n",
    "plt.xlabel('number of components')\n",
    "plt.ylabel('cumulative explained variance')\n"
   ]
  },
  {
   "cell_type": "markdown",
   "metadata": {},
   "source": [
    "Using enough components to capture roughly 0.9 of variance"
   ]
  },
  {
   "cell_type": "code",
   "execution_count": 23,
   "metadata": {},
   "outputs": [],
   "source": [
    "pca_reduced= PCA(n_components= 2000,svd_solver='randomized', random_state=1).fit(features_inception_train/to_norm)\n",
    "pca_reduced_train= pca_reduced.transform(features_inception_train/to_norm)\n",
    "pca_reduced_test= pca_reduced.transform(features_inception_test/to_norm)"
   ]
  },
  {
   "cell_type": "code",
   "execution_count": 13,
   "metadata": {},
   "outputs": [
    {
     "name": "stdout",
     "output_type": "stream",
     "text": [
      "Fitting 2 folds for each of 4 candidates, totalling 8 fits\n"
     ]
    },
    {
     "name": "stderr",
     "output_type": "stream",
     "text": [
      "[Parallel(n_jobs=-1)]: Done   8 out of   8 | elapsed:   33.8s finished\n"
     ]
    },
    {
     "name": "stdout",
     "output_type": "stream",
     "text": [
      "[LibLinear]"
     ]
    }
   ],
   "source": [
    "#using cross validation to find optimal C\n",
    "#random hyperparameter search  using cross-validation\n",
    "\n",
    "hyperparameters={'C':[0.001, 0.01, 0.1, 1]}\n",
    "clf_pca_cv = GridSearchCV(LinearSVC(verbose=1, random_state=1), hyperparameters, cv=2, verbose=1, n_jobs=-1,return_train_score=True)\n",
    "\n",
    "model_pca_gridCV = clf_pca_cv.fit(pca_reduced_train, np.asarray(y_train))"
   ]
  },
  {
   "cell_type": "code",
   "execution_count": 14,
   "metadata": {},
   "outputs": [
    {
     "data": {
      "text/plain": [
       "{'mean_fit_time': array([2.38559389, 2.56342733, 3.79139304, 6.63600945]),\n",
       " 'std_fit_time': array([0.00781107, 0.25171721, 0.11714768, 0.4000833 ]),\n",
       " 'mean_score_time': array([0.0781033 , 0.08591449, 0.05467248, 0.04686248]),\n",
       " 'std_score_time': array([3.12440395e-02, 3.90466452e-02, 7.80725479e-03, 8.34465027e-07]),\n",
       " 'param_C': masked_array(data=[0.001, 0.01, 0.1, 1],\n",
       "              mask=[False, False, False, False],\n",
       "        fill_value='?',\n",
       "             dtype=object),\n",
       " 'params': [{'C': 0.001}, {'C': 0.01}, {'C': 0.1}, {'C': 1}],\n",
       " 'split0_test_score': array([0.63923292, 0.69636436, 0.71314423, 0.67439073]),\n",
       " 'split1_test_score': array([0.65798959, 0.71365639, 0.73127753, 0.69603524]),\n",
       " 'mean_test_score': array([0.6486, 0.705 , 0.7222, 0.6852]),\n",
       " 'std_test_score': array([0.00937833, 0.00864601, 0.00906665, 0.01082225]),\n",
       " 'rank_test_score': array([4, 2, 1, 3]),\n",
       " 'split0_train_score': array([0.69203044, 0.82138566, 0.94072887, 0.99359231]),\n",
       " 'split1_train_score': array([0.6911706 , 0.82181382, 0.93407911, 0.99121055]),\n",
       " 'mean_train_score': array([0.69160052, 0.82159974, 0.93740399, 0.99240143]),\n",
       " 'std_train_score': array([0.00042992, 0.00021408, 0.00332488, 0.00119088])}"
      ]
     },
     "execution_count": 14,
     "metadata": {},
     "output_type": "execute_result"
    }
   ],
   "source": [
    "model_pca_gridCV.cv_results_\n",
    "#results are roughly the same as without pca transformation"
   ]
  },
  {
   "cell_type": "code",
   "execution_count": 24,
   "metadata": {},
   "outputs": [],
   "source": [
    "to_norm_pca = pca_reduced_train.max()\n",
    "#zmienić na scaler"
   ]
  },
  {
   "cell_type": "code",
   "execution_count": 25,
   "metadata": {},
   "outputs": [
    {
     "name": "stdout",
     "output_type": "stream",
     "text": [
      "model created\n",
      "[LibLinear]"
     ]
    }
   ],
   "source": [
    "#using svm to classify test data\n",
    "clf_pca = LinearSVC(verbose=1, C=0.1)\n",
    "print(\"model created\")\n",
    "fitted_inception_pca = clf_pca.fit(pca_reduced_train/to_norm_pca, np.asarray(y_train))  \n",
    "\n",
    "predicted_svm_pca = fitted_inception_pca.predict(pca_reduced_test/to_norm_pca)"
   ]
  },
  {
   "cell_type": "code",
   "execution_count": 26,
   "metadata": {},
   "outputs": [
    {
     "name": "stdout",
     "output_type": "stream",
     "text": [
      "0.7271111111111112\n"
     ]
    },
    {
     "data": {
      "text/plain": [
       "array([[168,   3,  19,   7,  11,   3,   0,   8,  12,   5],\n",
       "       [  3, 193,   2,   3,   0,   0,   0,   0,   4,  11],\n",
       "       [  6,   0, 116,  11,   6,   7,   9,   8,   1,   0],\n",
       "       [  0,   1,   9, 122,   7,  28,  14,   7,   4,   2],\n",
       "       [  8,   0,  29,  12, 144,   8,   9,  16,   4,   4],\n",
       "       [  1,   0,   4,  15,   1, 157,   5,  10,   0,   0],\n",
       "       [  3,   1,  25,  28,  26,   7, 222,   5,   1,   1],\n",
       "       [  1,   0,   6,   8,  28,  12,   1, 166,   1,   0],\n",
       "       [ 32,   5,   3,   5,   5,   1,   0,   2, 176,  10],\n",
       "       [  8,  18,   1,   9,   0,   4,   1,   6,  13, 172]], dtype=int64)"
      ]
     },
     "execution_count": 26,
     "metadata": {},
     "output_type": "execute_result"
    }
   ],
   "source": [
    "print(accuracy_score(predicted_svm_pca, y_test))\n",
    "confusion_matrix(predicted_svm_pca, y_test)\n",
    "#accuracy is lower than using data without pca transformation"
   ]
  },
  {
   "cell_type": "code",
   "execution_count": 115,
   "metadata": {},
   "outputs": [
    {
     "data": {
      "text/plain": [
       "{'C': 1.0,\n",
       " 'class_weight': None,\n",
       " 'dual': True,\n",
       " 'fit_intercept': True,\n",
       " 'intercept_scaling': 1,\n",
       " 'loss': 'squared_hinge',\n",
       " 'max_iter': 1000,\n",
       " 'multi_class': 'ovr',\n",
       " 'penalty': 'l2',\n",
       " 'random_state': None,\n",
       " 'tol': 0.0001,\n",
       " 'verbose': 0}"
      ]
     },
     "execution_count": 115,
     "metadata": {},
     "output_type": "execute_result"
    }
   ],
   "source": [
    "LinearSVC().get_params()"
   ]
  },
  {
   "cell_type": "markdown",
   "metadata": {},
   "source": [
    "## Creating classifier neural net on top of inception architecture"
   ]
  },
  {
   "cell_type": "code",
   "execution_count": 27,
   "metadata": {},
   "outputs": [
    {
     "data": {
      "text/plain": [
       "(5000, 18432)"
      ]
     },
     "execution_count": 27,
     "metadata": {},
     "output_type": "execute_result"
    }
   ],
   "source": [
    "features_inception_train.shape"
   ]
  },
  {
   "cell_type": "code",
   "execution_count": 29,
   "metadata": {},
   "outputs": [],
   "source": [
    "from keras.utils import np_utils\n",
    "\n",
    "# one-hot encode the labels\n",
    "y_train_onehot = np_utils.to_categorical(y_train, 10)\n",
    "y_test_onehot = np_utils.to_categorical(y_test, 10)"
   ]
  },
  {
   "cell_type": "code",
   "execution_count": 58,
   "metadata": {},
   "outputs": [],
   "source": [
    "from keras.models import Sequential\n",
    "from keras.layers import Dense, Dropout\n",
    "\n",
    "model_custom= Sequential()\n",
    "model_custom.add(Dense(units=400, input_dim=18432, activation='relu'))\n",
    "model_custom.add(Dropout(0.5))\n",
    "model_custom.add(Dense(units=10, activation='softmax'))\n",
    "\n",
    "model_custom.compile(loss='categorical_crossentropy',\n",
    "              optimizer='sgd',\n",
    "              metrics=['accuracy'])"
   ]
  },
  {
   "cell_type": "code",
   "execution_count": 62,
   "metadata": {},
   "outputs": [
    {
     "name": "stdout",
     "output_type": "stream",
     "text": [
      "Train on 4000 samples, validate on 1000 samples\n",
      "Epoch 1/5\n",
      " - 13s - loss: 0.0570 - acc: 0.9943 - val_loss: 0.9137 - val_acc: 0.7340\n",
      "Epoch 2/5\n",
      " - 13s - loss: 0.0579 - acc: 0.9915 - val_loss: 0.9364 - val_acc: 0.7370\n",
      "Epoch 3/5\n",
      " - 14s - loss: 0.0494 - acc: 0.9948 - val_loss: 0.9546 - val_acc: 0.7320\n",
      "Epoch 4/5\n",
      " - 21s - loss: 0.0477 - acc: 0.9938 - val_loss: 0.9483 - val_acc: 0.7310\n",
      "Epoch 5/5\n",
      " - 18s - loss: 0.0452 - acc: 0.9945 - val_loss: 0.9601 - val_acc: 0.7300\n"
     ]
    },
    {
     "data": {
      "text/plain": [
       "<keras.callbacks.History at 0x128bd0d6a90>"
      ]
     },
     "execution_count": 62,
     "metadata": {},
     "output_type": "execute_result"
    }
   ],
   "source": [
    "model_custom.fit(features_inception_train, y_train_onehot, epochs=25, batch_size=50, verbose=2, validation_split=0.2)"
   ]
  },
  {
   "cell_type": "code",
   "execution_count": 63,
   "metadata": {},
   "outputs": [
    {
     "name": "stdout",
     "output_type": "stream",
     "text": [
      "2250/2250 [==============================] - 3s 1ms/step\n"
     ]
    }
   ],
   "source": [
    "predicted_nn=model_custom.evaluate(features_inception_test,y_test_onehot)"
   ]
  },
  {
   "cell_type": "code",
   "execution_count": 64,
   "metadata": {},
   "outputs": [
    {
     "data": {
      "text/plain": [
       "[0.856459191110399, 0.7573333334392971]"
      ]
     },
     "execution_count": 64,
     "metadata": {},
     "output_type": "execute_result"
    }
   ],
   "source": [
    "predicted_nn"
   ]
  },
  {
   "cell_type": "markdown",
   "metadata": {},
   "source": [
    "Obtaining almost 100% accuracy on training data and "
   ]
  },
  {
   "cell_type": "markdown",
   "metadata": {},
   "source": [
    "## Using t-sne technique to visualise CNN codes"
   ]
  },
  {
   "cell_type": "code",
   "execution_count": 86,
   "metadata": {},
   "outputs": [
    {
     "name": "stdout",
     "output_type": "stream",
     "text": [
      "[t-SNE] Computing 121 nearest neighbors...\n",
      "[t-SNE] Indexed 5000 samples in 37.217s...\n",
      "[t-SNE] Computed neighbors for 5000 samples in 1458.609s...\n",
      "[t-SNE] Computed conditional probabilities for sample 1000 / 5000\n",
      "[t-SNE] Computed conditional probabilities for sample 2000 / 5000\n",
      "[t-SNE] Computed conditional probabilities for sample 3000 / 5000\n",
      "[t-SNE] Computed conditional probabilities for sample 4000 / 5000\n",
      "[t-SNE] Computed conditional probabilities for sample 5000 / 5000\n",
      "[t-SNE] Mean sigma: 16.995504\n",
      "[t-SNE] KL divergence after 250 iterations with early exaggeration: 83.857384\n",
      "[t-SNE] Error after 300 iterations: 3.211091\n",
      "t-SNE done! Time elapsed: 1672.0785403251648 seconds\n"
     ]
    }
   ],
   "source": [
    "time_start = time.time()\n",
    "tsne = TSNE(n_components=2, verbose=1, perplexity=40, n_iter=300)\n",
    "tsne_results = tsne.fit_transform(features_inception)\n",
    "\n",
    "print ('t-SNE done! Time elapsed: {} seconds'.format(time.time()-time_start))"
   ]
  },
  {
   "cell_type": "code",
   "execution_count": 168,
   "metadata": {},
   "outputs": [
    {
     "data": {
      "text/html": [
       "<div>\n",
       "<style scoped>\n",
       "    .dataframe tbody tr th:only-of-type {\n",
       "        vertical-align: middle;\n",
       "    }\n",
       "\n",
       "    .dataframe tbody tr th {\n",
       "        vertical-align: top;\n",
       "    }\n",
       "\n",
       "    .dataframe thead th {\n",
       "        text-align: right;\n",
       "    }\n",
       "</style>\n",
       "<table border=\"1\" class=\"dataframe\">\n",
       "  <thead>\n",
       "    <tr style=\"text-align: right;\">\n",
       "      <th></th>\n",
       "      <th>x1</th>\n",
       "      <th>x2</th>\n",
       "      <th>label</th>\n",
       "    </tr>\n",
       "  </thead>\n",
       "  <tbody>\n",
       "    <tr>\n",
       "      <th>0</th>\n",
       "      <td>-17.168783</td>\n",
       "      <td>-0.092451</td>\n",
       "      <td>7</td>\n",
       "    </tr>\n",
       "    <tr>\n",
       "      <th>1</th>\n",
       "      <td>-45.286457</td>\n",
       "      <td>5.570854</td>\n",
       "      <td>8</td>\n",
       "    </tr>\n",
       "    <tr>\n",
       "      <th>2</th>\n",
       "      <td>-27.364687</td>\n",
       "      <td>-5.980571</td>\n",
       "      <td>0</td>\n",
       "    </tr>\n",
       "    <tr>\n",
       "      <th>3</th>\n",
       "      <td>-43.765614</td>\n",
       "      <td>5.389830</td>\n",
       "      <td>6</td>\n",
       "    </tr>\n",
       "    <tr>\n",
       "      <th>4</th>\n",
       "      <td>59.035255</td>\n",
       "      <td>-48.107105</td>\n",
       "      <td>1</td>\n",
       "    </tr>\n",
       "  </tbody>\n",
       "</table>\n",
       "</div>"
      ],
      "text/plain": [
       "          x1         x2  label\n",
       "0 -17.168783  -0.092451      7\n",
       "1 -45.286457   5.570854      8\n",
       "2 -27.364687  -5.980571      0\n",
       "3 -43.765614   5.389830      6\n",
       "4  59.035255 -48.107105      1"
      ]
     },
     "execution_count": 168,
     "metadata": {},
     "output_type": "execute_result"
    }
   ],
   "source": [
    "pca_df = pd.DataFrame({'x1':pca_results[:,0], 'x2':pca_results[:,1], 'label':y_train})\n",
    "pca_df.head()"
   ]
  },
  {
   "cell_type": "code",
   "execution_count": 135,
   "metadata": {},
   "outputs": [
    {
     "data": {
      "text/html": [
       "<div>\n",
       "<style scoped>\n",
       "    .dataframe tbody tr th:only-of-type {\n",
       "        vertical-align: middle;\n",
       "    }\n",
       "\n",
       "    .dataframe tbody tr th {\n",
       "        vertical-align: top;\n",
       "    }\n",
       "\n",
       "    .dataframe thead th {\n",
       "        text-align: right;\n",
       "    }\n",
       "</style>\n",
       "<table border=\"1\" class=\"dataframe\">\n",
       "  <thead>\n",
       "    <tr style=\"text-align: right;\">\n",
       "      <th></th>\n",
       "      <th>x1</th>\n",
       "      <th>x2</th>\n",
       "      <th>label</th>\n",
       "    </tr>\n",
       "  </thead>\n",
       "  <tbody>\n",
       "    <tr>\n",
       "      <th>0</th>\n",
       "      <td>-0.219118</td>\n",
       "      <td>-3.158205</td>\n",
       "      <td>7</td>\n",
       "    </tr>\n",
       "    <tr>\n",
       "      <th>1</th>\n",
       "      <td>0.125929</td>\n",
       "      <td>1.402257</td>\n",
       "      <td>8</td>\n",
       "    </tr>\n",
       "    <tr>\n",
       "      <th>2</th>\n",
       "      <td>0.381148</td>\n",
       "      <td>2.868009</td>\n",
       "      <td>0</td>\n",
       "    </tr>\n",
       "    <tr>\n",
       "      <th>3</th>\n",
       "      <td>-1.993657</td>\n",
       "      <td>-2.305661</td>\n",
       "      <td>6</td>\n",
       "    </tr>\n",
       "    <tr>\n",
       "      <th>4</th>\n",
       "      <td>-4.918993</td>\n",
       "      <td>0.496868</td>\n",
       "      <td>1</td>\n",
       "    </tr>\n",
       "  </tbody>\n",
       "</table>\n",
       "</div>"
      ],
      "text/plain": [
       "         x1        x2  label\n",
       "0 -0.219118 -3.158205      7\n",
       "1  0.125929  1.402257      8\n",
       "2  0.381148  2.868009      0\n",
       "3 -1.993657 -2.305661      6\n",
       "4 -4.918993  0.496868      1"
      ]
     },
     "execution_count": 135,
     "metadata": {},
     "output_type": "execute_result"
    }
   ],
   "source": [
    "import pandas as pd\n",
    "tsne_df = pd.DataFrame({'x1':tsne_results[:,0], 'x2':tsne_results[:,1], 'label':y_train})\n",
    "tsne_df.head()"
   ]
  },
  {
   "cell_type": "code",
   "execution_count": 167,
   "metadata": {},
   "outputs": [
    {
     "name": "stdout",
     "output_type": "stream",
     "text": [
      "PCA done! Time elapsed: 6.54068398475647 seconds\n"
     ]
    }
   ],
   "source": [
    "#using pca to obtain lower-dimension dataset\n",
    "time_start = time.time()\n",
    "pca = PCA(n_components=2, random_state=1, svd_solver='randomized')\n",
    "pca_results = pca.fit_transform(features_inception)\n",
    "\n",
    "print ('PCA done! Time elapsed: {} seconds'.format(time.time()-time_start))"
   ]
  },
  {
   "cell_type": "code",
   "execution_count": 172,
   "metadata": {},
   "outputs": [
    {
     "data": {
      "text/plain": [
       "<seaborn.axisgrid.FacetGrid at 0x23d170ed7b8>"
      ]
     },
     "execution_count": 172,
     "metadata": {},
     "output_type": "execute_result"
    },
    {
     "data": {
      "image/png": "[encoded data removed]",
      "text/plain": [
       "<Figure size 557.75x500 with 1 Axes>"
      ]
     },
     "metadata": {},
     "output_type": "display_data"
    }
   ],
   "source": [
    "import seaborn as sns\n",
    "sns.set(rc={'figure.dpi':100})\n",
    "sns.lmplot(x='x1', y='x2',\n",
    "                hue='label',\n",
    "                data=pca_df.head(1000),\n",
    "           fit_reg=False,\n",
    "           scatter_kws={\"s\": 10}\n",
    "                )"
   ]
  },
  {
   "cell_type": "code",
   "execution_count": 87,
   "metadata": {},
   "outputs": [],
   "source": [
    "np.save(\"backups/t-sne-1.npy\", tsne_results)"
   ]
  },
  {
   "cell_type": "markdown",
   "metadata": {},
   "source": [
    "## Misc"
   ]
  },
  {
   "cell_type": "code",
   "execution_count": 73,
   "metadata": {},
   "outputs": [],
   "source": [
    "%matplotlib inline"
   ]
  },
  {
   "cell_type": "code",
   "execution_count": 57,
   "metadata": {},
   "outputs": [
    {
     "ename": "TypeError",
     "evalue": "Cannot handle this data type",
     "output_type": "error",
     "traceback": [
      "\u001b[1;31m---------------------------------------------------------------------------\u001b[0m",
      "\u001b[1;31mKeyError\u001b[0m                                  Traceback (most recent call last)",
      "\u001b[1;32mC:\\ProgramData\\Anaconda3\\lib\\site-packages\\PIL\\Image.py\u001b[0m in \u001b[0;36mfromarray\u001b[1;34m(obj, mode)\u001b[0m\n\u001b[0;32m   2427\u001b[0m             \u001b[0mtypekey\u001b[0m \u001b[1;33m=\u001b[0m \u001b[1;33m(\u001b[0m\u001b[1;36m1\u001b[0m\u001b[1;33m,\u001b[0m \u001b[1;36m1\u001b[0m\u001b[1;33m)\u001b[0m \u001b[1;33m+\u001b[0m \u001b[0mshape\u001b[0m\u001b[1;33m[\u001b[0m\u001b[1;36m2\u001b[0m\u001b[1;33m:\u001b[0m\u001b[1;33m]\u001b[0m\u001b[1;33m,\u001b[0m \u001b[0marr\u001b[0m\u001b[1;33m[\u001b[0m\u001b[1;34m'typestr'\u001b[0m\u001b[1;33m]\u001b[0m\u001b[1;33m\u001b[0m\u001b[0m\n\u001b[1;32m-> 2428\u001b[1;33m             \u001b[0mmode\u001b[0m\u001b[1;33m,\u001b[0m \u001b[0mrawmode\u001b[0m \u001b[1;33m=\u001b[0m \u001b[0m_fromarray_typemap\u001b[0m\u001b[1;33m[\u001b[0m\u001b[0mtypekey\u001b[0m\u001b[1;33m]\u001b[0m\u001b[1;33m\u001b[0m\u001b[0m\n\u001b[0m\u001b[0;32m   2429\u001b[0m         \u001b[1;32mexcept\u001b[0m \u001b[0mKeyError\u001b[0m\u001b[1;33m:\u001b[0m\u001b[1;33m\u001b[0m\u001b[0m\n",
      "\u001b[1;31mKeyError\u001b[0m: ((1, 1, 32), '|u1')",
      "\nDuring handling of the above exception, another exception occurred:\n",
      "\u001b[1;31mTypeError\u001b[0m                                 Traceback (most recent call last)",
      "\u001b[1;32m<ipython-input-57-49b5468c0272>\u001b[0m in \u001b[0;36m<module>\u001b[1;34m()\u001b[0m\n\u001b[0;32m      8\u001b[0m \u001b[1;33m\u001b[0m\u001b[0m\n\u001b[0;32m      9\u001b[0m \u001b[0ma\u001b[0m\u001b[1;33m=\u001b[0m\u001b[0mimage\u001b[0m\u001b[1;33m*\u001b[0m\u001b[1;36m255\u001b[0m\u001b[1;33m\u001b[0m\u001b[0m\n\u001b[1;32m---> 10\u001b[1;33m \u001b[0mimage2\u001b[0m \u001b[1;33m=\u001b[0m \u001b[0mImage\u001b[0m\u001b[1;33m.\u001b[0m\u001b[0mfromarray\u001b[0m\u001b[1;33m(\u001b[0m\u001b[0ma\u001b[0m\u001b[1;33m.\u001b[0m\u001b[0mastype\u001b[0m\u001b[1;33m(\u001b[0m\u001b[1;34m'uint8'\u001b[0m\u001b[1;33m)\u001b[0m\u001b[1;33m)\u001b[0m\u001b[1;33m\u001b[0m\u001b[0m\n\u001b[0m\u001b[0;32m     11\u001b[0m \u001b[1;31m#image2=image2.resize((299,299), Image.NEAREST)\u001b[0m\u001b[1;33m\u001b[0m\u001b[1;33m\u001b[0m\u001b[0m\n\u001b[0;32m     12\u001b[0m \u001b[0mimage2\u001b[0m\u001b[1;33m.\u001b[0m\u001b[0mshow\u001b[0m\u001b[1;33m(\u001b[0m\u001b[1;33m)\u001b[0m\u001b[1;33m\u001b[0m\u001b[0m\n",
      "\u001b[1;32mC:\\ProgramData\\Anaconda3\\lib\\site-packages\\PIL\\Image.py\u001b[0m in \u001b[0;36mfromarray\u001b[1;34m(obj, mode)\u001b[0m\n\u001b[0;32m   2429\u001b[0m         \u001b[1;32mexcept\u001b[0m \u001b[0mKeyError\u001b[0m\u001b[1;33m:\u001b[0m\u001b[1;33m\u001b[0m\u001b[0m\n\u001b[0;32m   2430\u001b[0m             \u001b[1;31m# print(typekey)\u001b[0m\u001b[1;33m\u001b[0m\u001b[1;33m\u001b[0m\u001b[0m\n\u001b[1;32m-> 2431\u001b[1;33m             \u001b[1;32mraise\u001b[0m \u001b[0mTypeError\u001b[0m\u001b[1;33m(\u001b[0m\u001b[1;34m\"Cannot handle this data type\"\u001b[0m\u001b[1;33m)\u001b[0m\u001b[1;33m\u001b[0m\u001b[0m\n\u001b[0m\u001b[0;32m   2432\u001b[0m     \u001b[1;32melse\u001b[0m\u001b[1;33m:\u001b[0m\u001b[1;33m\u001b[0m\u001b[0m\n\u001b[0;32m   2433\u001b[0m         \u001b[0mrawmode\u001b[0m \u001b[1;33m=\u001b[0m \u001b[0mmode\u001b[0m\u001b[1;33m\u001b[0m\u001b[0m\n",
      "\u001b[1;31mTypeError\u001b[0m: Cannot handle this data type"
     ]
    }
   ],
   "source": [
    "#displaying image testing\n",
    "#img_path = 'a.jpg'\n",
    "#img = image.load_img(img_path, target_size=(224, 224))\n",
    "#b=image.img_to_array(img)\n",
    "#img.show()\n",
    "#Image.fromarray(b.astype('uint8'), 'RGB').show()\n",
    "\n",
    "\n",
    "a=x_train[1]*255\n",
    "image2 = Image.fromarray(a.astype('uint8'), 'RGB')\n",
    "#image2=image2.resize((299,299), Image.NEAREST)\n",
    "image2.show()\n",
    "#a=image.img_to_array(image2)\n",
    "#a"
   ]
  }
 ],
 "metadata": {
  "kernelspec": {
   "display_name": "Python 3",
   "language": "python",
   "name": "python3"
  },
  "language_info": {
   "codemirror_mode": {
    "name": "ipython",
    "version": 3
   },
   "file_extension": ".py",
   "mimetype": "text/x-python",
   "name": "python",
   "nbconvert_exporter": "python",
   "pygments_lexer": "ipython3",
   "version": "3.6.5"
  }
 },
 "nbformat": 4,
 "nbformat_minor": 2
}
